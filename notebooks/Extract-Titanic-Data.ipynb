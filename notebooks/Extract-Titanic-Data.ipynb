{
 "cells": [
  {
   "cell_type": "markdown",
   "metadata": {},
   "source": [
    "# Extracting titanic disaster data from kaggle"
   ]
  },
  {
   "cell_type": "code",
   "execution_count": 1,
   "metadata": {},
   "outputs": [
    {
     "name": "stdout",
     "output_type": "stream",
     "text": [
      "Requirement already satisfied: python-dotenv in c:\\users\\scarllee\\anaconda3\\lib\\site-packages (0.13.0)\n"
     ]
    },
    {
     "name": "stderr",
     "output_type": "stream",
     "text": [
      "You are using pip version 10.0.1, however version 20.1.1 is available.\n",
      "You should consider upgrading via the 'python -m pip install --upgrade pip' command.\n"
     ]
    }
   ],
   "source": [
    "!pip install python-dotenv"
   ]
  },
  {
   "cell_type": "code",
   "execution_count": 2,
   "metadata": {},
   "outputs": [],
   "source": [
    "from dotenv import load_dotenv, find_dotenv"
   ]
  },
  {
   "cell_type": "code",
   "execution_count": 3,
   "metadata": {},
   "outputs": [
    {
     "data": {
      "text/plain": [
       "True"
      ]
     },
     "execution_count": 3,
     "metadata": {},
     "output_type": "execute_result"
    }
   ],
   "source": [
    "dotenv_path = find_dotenv()\n",
    "load_dotenv(dotenv_path)"
   ]
  },
  {
   "cell_type": "code",
   "execution_count": 4,
   "metadata": {},
   "outputs": [
    {
     "name": "stdout",
     "output_type": "stream",
     "text": [
      "kolawoleikeoluwa\n"
     ]
    }
   ],
   "source": [
    "import os\n",
    "KAGGLE_USERNAME = os.environ.get(\"KAGGLE_USERNAME\")\n",
    "print(KAGGLE_USERNAME)"
   ]
  },
  {
   "cell_type": "code",
   "execution_count": 5,
   "metadata": {},
   "outputs": [],
   "source": [
    "# imports\n",
    "import requests\n",
    "from requests import session\n",
    "import os\n",
    "from dotenv import load_dotenv, find_dotenv"
   ]
  },
  {
   "cell_type": "code",
   "execution_count": 1,
   "metadata": {},
   "outputs": [
    {
     "data": {
      "text/plain": [
       "'payload = {\\n    \\'action\\': \\'login\\',\\n    \\'username\\': os.environ.get(\"KAGGLE_USERNAME\"),\\n    \\'password\\': os.environ.get(\"KAGGLE_PASSWORD\")\\n}\\n\\n# url for train file (link is gotten from the website)\\nurlExample = \\'https://wwwkaggle.com/c/titanic/download/train.csv\\'\\n\\n# setup session\\nwith session() as c:\\n    # post request\\n    c.post(\\'https://www.kaggle.com/account/login\\', data=payload)\\n    # get request\\n    response = c.get(urlExample)\\n    # print response text\\n    print(response.text)\\n    '"
      ]
     },
     "execution_count": 1,
     "metadata": {},
     "output_type": "execute_result"
    }
   ],
   "source": [
    "# payload for post\n",
    "# Downloading the training data\n",
    "\"\"\"payload = {\n",
    "    'action': 'login',\n",
    "    'username': os.environ.get(\"KAGGLE_USERNAME\"),\n",
    "    'password': os.environ.get(\"KAGGLE_PASSWORD\")\n",
    "}\n",
    "\n",
    "# url for train file (link is gotten from the website)\n",
    "urlExample = 'https://wwwkaggle.com/c/titanic/download/train.csv'\n",
    "\n",
    "# setup session\n",
    "with session() as c:\n",
    "    # post request\n",
    "    c.post('https://www.kaggle.com/account/login', data=payload)\n",
    "    # get request\n",
    "    response = c.get(urlExample)\n",
    "    # print response text\n",
    "    print(response.text)\n",
    "    \"\"\""
   ]
  },
  {
   "cell_type": "code",
   "execution_count": 2,
   "metadata": {},
   "outputs": [
    {
     "data": {
      "text/plain": [
       "'from requests import session\\n# Extracting data from kaggle\\npayload = {\\n    \\'action\\': \\'login\\',\\n    \\'username\\': os.environ.get(\"KAGGLE_USERNAME\"),\\n    \\'password\\': os.environ.get(\"KAGGLE_PASSWORD\")\\n}\\n\\ndef extract_data(urlExample, file_path):\\n    with session() as c:\\n        c.post(\\'https://www.kaggle.com/account/login\\', data=payload)\\n        # open file to write\\n        with open(file_path, \\'w\\') as handle:\\n            response = c.get(urlExample, stream=True)\\n            for block in response.iter_content(1024):\\n                handle.write(block)\\n                '"
      ]
     },
     "execution_count": 2,
     "metadata": {},
     "output_type": "execute_result"
    }
   ],
   "source": [
    "\"\"\"from requests import session\n",
    "# Extracting data from kaggle\n",
    "payload = {\n",
    "    'action': 'login',\n",
    "    'username': os.environ.get(\"KAGGLE_USERNAME\"),\n",
    "    'password': os.environ.get(\"KAGGLE_PASSWORD\")\n",
    "}\n",
    "\n",
    "def extract_data(urlExample, file_path):\n",
    "    with session() as c:\n",
    "        c.post('https://www.kaggle.com/account/login', data=payload)\n",
    "        # open file to write\n",
    "        with open(file_path, 'w') as handle:\n",
    "            response = c.get(urlExample, stream=True)\n",
    "            for block in response.iter_content(1024):\n",
    "                handle.write(block)\n",
    "                \"\"\"\n",
    "    "
   ]
  },
  {
   "cell_type": "code",
   "execution_count": 3,
   "metadata": {},
   "outputs": [
    {
     "data": {
      "text/plain": [
       "\"# Saving the downloaded files to raw data directory\\n\\n#url\\ntrain_url = 'https://www.kaggle.com/c/titanic/download/train.csv'\\ntest_url = 'https://www.kaggle.com/c/titanic/download/test.csv'\\n\\n# file paths\\nraw_data_path = os.path.join(os.path.pardir,'data', 'raw')\\ntrain_data_path = os.path.join(raw_data_path, 'train.csv')\\ntest_data_path = os.path.join(raw_data_path, 'test.csv')\\n\\n# extract data\\n\\nextract_data(train_url, train_data_path)\\nextract_data(test_url, test_data_path)\""
      ]
     },
     "execution_count": 3,
     "metadata": {},
     "output_type": "execute_result"
    }
   ],
   "source": [
    "\"\"\"# Saving the downloaded files to raw data directory\n",
    "\n",
    "#url\n",
    "train_url = 'https://www.kaggle.com/c/titanic/download/train.csv'\n",
    "test_url = 'https://www.kaggle.com/c/titanic/download/test.csv'\n",
    "\n",
    "# file paths\n",
    "raw_data_path = os.path.join(os.path.pardir,'data', 'raw')\n",
    "train_data_path = os.path.join(raw_data_path, 'train.csv')\n",
    "test_data_path = os.path.join(raw_data_path, 'test.csv')\n",
    "\n",
    "# extract data\n",
    "\n",
    "extract_data(train_url, train_data_path)\n",
    "extract_data(test_url, test_data_path)\"\"\""
   ]
  },
  {
   "cell_type": "markdown",
   "metadata": {},
   "source": [
    "# Building the file script"
   ]
  },
  {
   "cell_type": "code",
   "execution_count": 2,
   "metadata": {},
   "outputs": [],
   "source": [
    "import os\n",
    "get_raw_data_script_file = os.path.join(os.path.pardir, 'src', 'data', 'get_raw_data.py')"
   ]
  },
  {
   "cell_type": "code",
   "execution_count": 5,
   "metadata": {},
   "outputs": [
    {
     "data": {
      "text/plain": [
       "'%%writefile $get_raw_data_script_file\\n# -*- coding: utf-8 -*-\\nimport os\\nfrom dotenv import find_dotenv, load_dotenv\\nfrom requests import session\\nimport logging\\n\\n# payload for login to kaggle\\npayload = {\\n    \\'action\\': \\'login\\',\\n    \\'username\\': os.environ.get(\"KAGGLE_USERNAME\"),\\n    \\'password\\': os.environ.get(\"KAGGLE_PASSWORD\")\\n}\\n\\n\\ndef extract_data(urlExample, file_path):\\n    \\'\\'\\'method to extract data\\'\\'\\'\\n    with session() as c:\\n        c.post(\\'https://www.kaggle.com/account/login\\', data=payload)\\n        # open file to write\\n        with open(file_path, \\'w\\') as handle:\\n            response = c.get(urlExample, stream=True)\\n            for block in response.iter_content(1024):\\n                handle.write(block)\\n                \\n                \\ndef main(project_dir):\\n    \\'\\'\\'main method\\'\\'\\'\\n    # get logger\\n    logger = logging.getLogger(__name__)\\n    logger.info(\\'getting raw data\\')\\n    \\n    #urls\\n    train_url = \\'https://www.kaggle.com/c/titanic/download/train.csv\\'\\n    test_url = \\'https://www.kaggle.com/c/titanic/download/test.csv\\'\\n\\n    # file paths\\n    raw_data_path = os.path.join(project_dir,\\'data\\', \\'raw\\')\\n    train_data_path = os.path.join(raw_data_path, \\'train.csv\\')\\n    test_data_path = os.path.join(raw_data_path, \\'test.csv\\')\\n\\n    # extract data\\n\\n    extract_data(train_url, train_data_path)\\n    extract_data(test_url, test_data_path)\\n    logger.info(\\'downloaded raw training and test data\\')\\n    \\n    \\nif __name__ == \\'__main__\\':\\n    # getting root directory\\n    project_dir = os.path.join(os.path.dirname(__file__), os.pardir, os.pardir)\\n    \\n    # setup logger\\n    log_fmt = \\'%(asctime)s - %(name)s - %(levelname)s - %(message)s\\'\\n    logging.basicConfig(level=logging.INFO, format=log_fmt)\\n    \\n    # find .env automatically by walking up directories until its found\\n    dotenv_path = find_dotenv()\\n    \\n    load_dotenv(dotenv_path)\\n    \\n    # call the main\\n    main(project_dir)'"
      ]
     },
     "execution_count": 5,
     "metadata": {},
     "output_type": "execute_result"
    }
   ],
   "source": [
    "\"\"\"%%writefile $get_raw_data_script_file\n",
    "# -*- coding: utf-8 -*-\n",
    "import os\n",
    "from dotenv import find_dotenv, load_dotenv\n",
    "from requests import session\n",
    "import logging\n",
    "\n",
    "# payload for login to kaggle\n",
    "payload = {\n",
    "    'action': 'login',\n",
    "    'username': os.environ.get(\"KAGGLE_USERNAME\"),\n",
    "    'password': os.environ.get(\"KAGGLE_PASSWORD\")\n",
    "}\n",
    "\n",
    "\n",
    "def extract_data(urlExample, file_path):\n",
    "    '''method to extract data'''\n",
    "    with session() as c:\n",
    "        c.post('https://www.kaggle.com/account/login', data=payload)\n",
    "        # open file to write\n",
    "        with open(file_path, 'w') as handle:\n",
    "            response = c.get(urlExample, stream=True)\n",
    "            for block in response.iter_content(1024):\n",
    "                handle.write(block)\n",
    "                \n",
    "                \n",
    "def main(project_dir):\n",
    "    '''main method'''\n",
    "    # get logger\n",
    "    logger = logging.getLogger(__name__)\n",
    "    logger.info('getting raw data')\n",
    "    \n",
    "    #urls\n",
    "    train_url = 'https://www.kaggle.com/c/titanic/download/train.csv'\n",
    "    test_url = 'https://www.kaggle.com/c/titanic/download/test.csv'\n",
    "\n",
    "    # file paths\n",
    "    raw_data_path = os.path.join(project_dir,'data', 'raw')\n",
    "    train_data_path = os.path.join(raw_data_path, 'train.csv')\n",
    "    test_data_path = os.path.join(raw_data_path, 'test.csv')\n",
    "\n",
    "    # extract data\n",
    "\n",
    "    extract_data(train_url, train_data_path)\n",
    "    extract_data(test_url, test_data_path)\n",
    "    logger.info('downloaded raw training and test data')\n",
    "    \n",
    "    \n",
    "if __name__ == '__main__':\n",
    "    # getting root directory\n",
    "    project_dir = os.path.join(os.path.dirname(__file__), os.pardir, os.pardir)\n",
    "    \n",
    "    # setup logger\n",
    "    log_fmt = '%(asctime)s - %(name)s - %(levelname)s - %(message)s'\n",
    "    logging.basicConfig(level=logging.INFO, format=log_fmt)\n",
    "    \n",
    "    # find .env automatically by walking up directories until its found\n",
    "    dotenv_path = find_dotenv()\n",
    "    \n",
    "    load_dotenv(dotenv_path)\n",
    "    \n",
    "    # call the main\n",
    "    main(project_dir)\"\"\""
   ]
  },
  {
   "cell_type": "code",
   "execution_count": 4,
   "metadata": {},
   "outputs": [],
   "source": [
    "# activating the script from jupyter notebook\n",
    "# !python $get_raw_data_script_file"
   ]
  },
  {
   "cell_type": "code",
   "execution_count": null,
   "metadata": {},
   "outputs": [],
   "source": []
  }
 ],
 "metadata": {
  "kernelspec": {
   "display_name": "Python 3",
   "language": "python",
   "name": "python3"
  },
  "language_info": {
   "codemirror_mode": {
    "name": "ipython",
    "version": 3
   },
   "file_extension": ".py",
   "mimetype": "text/x-python",
   "name": "python",
   "nbconvert_exporter": "python",
   "pygments_lexer": "ipython3",
   "version": "3.6.5"
  }
 },
 "nbformat": 4,
 "nbformat_minor": 2
}
